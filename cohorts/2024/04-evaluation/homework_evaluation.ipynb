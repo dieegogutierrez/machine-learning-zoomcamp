{
 "cells": [
  {
   "cell_type": "code",
   "execution_count": 326,
   "id": "d705686e",
   "metadata": {},
   "outputs": [],
   "source": [
    "import pandas as pd"
   ]
  },
  {
   "cell_type": "code",
   "execution_count": 327,
   "id": "e11cfc1a",
   "metadata": {
    "scrolled": true
   },
   "outputs": [
    {
     "data": {
      "text/html": [
       "<div>\n",
       "<style scoped>\n",
       "    .dataframe tbody tr th:only-of-type {\n",
       "        vertical-align: middle;\n",
       "    }\n",
       "\n",
       "    .dataframe tbody tr th {\n",
       "        vertical-align: top;\n",
       "    }\n",
       "\n",
       "    .dataframe thead th {\n",
       "        text-align: right;\n",
       "    }\n",
       "</style>\n",
       "<table border=\"1\" class=\"dataframe\">\n",
       "  <thead>\n",
       "    <tr style=\"text-align: right;\">\n",
       "      <th></th>\n",
       "      <th>age</th>\n",
       "      <th>job</th>\n",
       "      <th>marital</th>\n",
       "      <th>education</th>\n",
       "      <th>balance</th>\n",
       "      <th>housing</th>\n",
       "      <th>contact</th>\n",
       "      <th>day</th>\n",
       "      <th>month</th>\n",
       "      <th>duration</th>\n",
       "      <th>campaign</th>\n",
       "      <th>pdays</th>\n",
       "      <th>previous</th>\n",
       "      <th>poutcome</th>\n",
       "      <th>y</th>\n",
       "    </tr>\n",
       "  </thead>\n",
       "  <tbody>\n",
       "    <tr>\n",
       "      <th>0</th>\n",
       "      <td>58</td>\n",
       "      <td>management</td>\n",
       "      <td>married</td>\n",
       "      <td>tertiary</td>\n",
       "      <td>2143</td>\n",
       "      <td>yes</td>\n",
       "      <td>unknown</td>\n",
       "      <td>5</td>\n",
       "      <td>may</td>\n",
       "      <td>261</td>\n",
       "      <td>1</td>\n",
       "      <td>-1</td>\n",
       "      <td>0</td>\n",
       "      <td>unknown</td>\n",
       "      <td>no</td>\n",
       "    </tr>\n",
       "    <tr>\n",
       "      <th>1</th>\n",
       "      <td>44</td>\n",
       "      <td>technician</td>\n",
       "      <td>single</td>\n",
       "      <td>secondary</td>\n",
       "      <td>29</td>\n",
       "      <td>yes</td>\n",
       "      <td>unknown</td>\n",
       "      <td>5</td>\n",
       "      <td>may</td>\n",
       "      <td>151</td>\n",
       "      <td>1</td>\n",
       "      <td>-1</td>\n",
       "      <td>0</td>\n",
       "      <td>unknown</td>\n",
       "      <td>no</td>\n",
       "    </tr>\n",
       "    <tr>\n",
       "      <th>2</th>\n",
       "      <td>33</td>\n",
       "      <td>entrepreneur</td>\n",
       "      <td>married</td>\n",
       "      <td>secondary</td>\n",
       "      <td>2</td>\n",
       "      <td>yes</td>\n",
       "      <td>unknown</td>\n",
       "      <td>5</td>\n",
       "      <td>may</td>\n",
       "      <td>76</td>\n",
       "      <td>1</td>\n",
       "      <td>-1</td>\n",
       "      <td>0</td>\n",
       "      <td>unknown</td>\n",
       "      <td>no</td>\n",
       "    </tr>\n",
       "    <tr>\n",
       "      <th>3</th>\n",
       "      <td>47</td>\n",
       "      <td>blue-collar</td>\n",
       "      <td>married</td>\n",
       "      <td>unknown</td>\n",
       "      <td>1506</td>\n",
       "      <td>yes</td>\n",
       "      <td>unknown</td>\n",
       "      <td>5</td>\n",
       "      <td>may</td>\n",
       "      <td>92</td>\n",
       "      <td>1</td>\n",
       "      <td>-1</td>\n",
       "      <td>0</td>\n",
       "      <td>unknown</td>\n",
       "      <td>no</td>\n",
       "    </tr>\n",
       "    <tr>\n",
       "      <th>4</th>\n",
       "      <td>33</td>\n",
       "      <td>unknown</td>\n",
       "      <td>single</td>\n",
       "      <td>unknown</td>\n",
       "      <td>1</td>\n",
       "      <td>no</td>\n",
       "      <td>unknown</td>\n",
       "      <td>5</td>\n",
       "      <td>may</td>\n",
       "      <td>198</td>\n",
       "      <td>1</td>\n",
       "      <td>-1</td>\n",
       "      <td>0</td>\n",
       "      <td>unknown</td>\n",
       "      <td>no</td>\n",
       "    </tr>\n",
       "  </tbody>\n",
       "</table>\n",
       "</div>"
      ],
      "text/plain": [
       "   age           job  marital  education  balance housing  contact  day month  \\\n",
       "0   58    management  married   tertiary     2143     yes  unknown    5   may   \n",
       "1   44    technician   single  secondary       29     yes  unknown    5   may   \n",
       "2   33  entrepreneur  married  secondary        2     yes  unknown    5   may   \n",
       "3   47   blue-collar  married    unknown     1506     yes  unknown    5   may   \n",
       "4   33       unknown   single    unknown        1      no  unknown    5   may   \n",
       "\n",
       "   duration  campaign  pdays  previous poutcome   y  \n",
       "0       261         1     -1         0  unknown  no  \n",
       "1       151         1     -1         0  unknown  no  \n",
       "2        76         1     -1         0  unknown  no  \n",
       "3        92         1     -1         0  unknown  no  \n",
       "4       198         1     -1         0  unknown  no  "
      ]
     },
     "execution_count": 327,
     "metadata": {},
     "output_type": "execute_result"
    }
   ],
   "source": [
    "df = pd.read_csv(\"../03-classification/bank-full.csv\", sep=\";\")\n",
    "\n",
    "base = ['age', 'job', 'marital', 'education', 'balance', 'housing', 'contact', 'day', \n",
    "        'month', 'duration', 'campaign', 'pdays', 'previous', 'poutcome', 'y']\n",
    "df = df[base]\n",
    "\n",
    "df.head()"
   ]
  },
  {
   "cell_type": "code",
   "execution_count": 328,
   "id": "455eed8a",
   "metadata": {
    "scrolled": false
   },
   "outputs": [
    {
     "data": {
      "text/plain": [
       "age          0\n",
       "job          0\n",
       "marital      0\n",
       "education    0\n",
       "balance      0\n",
       "housing      0\n",
       "contact      0\n",
       "day          0\n",
       "month        0\n",
       "duration     0\n",
       "campaign     0\n",
       "pdays        0\n",
       "previous     0\n",
       "poutcome     0\n",
       "y            0\n",
       "dtype: int64"
      ]
     },
     "execution_count": 328,
     "metadata": {},
     "output_type": "execute_result"
    }
   ],
   "source": [
    "df.isnull().sum()"
   ]
  },
  {
   "cell_type": "code",
   "execution_count": 329,
   "id": "6f23f1c8",
   "metadata": {
    "scrolled": false
   },
   "outputs": [
    {
     "data": {
      "text/plain": [
       "age           int64\n",
       "job          object\n",
       "marital      object\n",
       "education    object\n",
       "balance       int64\n",
       "housing      object\n",
       "contact      object\n",
       "day           int64\n",
       "month        object\n",
       "duration      int64\n",
       "campaign      int64\n",
       "pdays         int64\n",
       "previous      int64\n",
       "poutcome     object\n",
       "y            object\n",
       "dtype: object"
      ]
     },
     "execution_count": 329,
     "metadata": {},
     "output_type": "execute_result"
    }
   ],
   "source": [
    "df.dtypes"
   ]
  },
  {
   "cell_type": "code",
   "execution_count": 330,
   "id": "b0231ed3",
   "metadata": {
    "scrolled": false
   },
   "outputs": [
    {
     "data": {
      "text/plain": [
       "(['age', 'balance', 'day', 'duration', 'campaign', 'pdays', 'previous'],\n",
       " ['job', 'marital', 'education', 'housing', 'contact', 'month', 'poutcome'])"
      ]
     },
     "execution_count": 330,
     "metadata": {},
     "output_type": "execute_result"
    }
   ],
   "source": [
    "numerical = list(df.dtypes[df.dtypes == 'int64'].index)\n",
    "categorical = list(df.dtypes[df.dtypes == 'object'].index)\n",
    "categorical.remove('y')\n",
    "numerical, categorical"
   ]
  },
  {
   "cell_type": "markdown",
   "id": "01505f3e",
   "metadata": {},
   "source": [
    "# Target Encoding"
   ]
  },
  {
   "cell_type": "code",
   "execution_count": 331,
   "id": "b8a46579",
   "metadata": {
    "scrolled": true
   },
   "outputs": [
    {
     "data": {
      "text/plain": [
       "y\n",
       "0    39922\n",
       "1     5289\n",
       "Name: count, dtype: int64"
      ]
     },
     "execution_count": 331,
     "metadata": {},
     "output_type": "execute_result"
    }
   ],
   "source": [
    "df['y'] = (df['y'] == 'yes').astype(int)\n",
    "df['y'].value_counts()"
   ]
  },
  {
   "cell_type": "markdown",
   "id": "ff916df6",
   "metadata": {},
   "source": [
    "# Split the Data"
   ]
  },
  {
   "cell_type": "code",
   "execution_count": 332,
   "id": "2602813e",
   "metadata": {},
   "outputs": [],
   "source": [
    "from sklearn.model_selection import train_test_split"
   ]
  },
  {
   "cell_type": "code",
   "execution_count": 333,
   "id": "0c2af3bf",
   "metadata": {},
   "outputs": [
    {
     "data": {
      "text/plain": [
       "(27125, 9043, 9043)"
      ]
     },
     "execution_count": 333,
     "metadata": {},
     "output_type": "execute_result"
    }
   ],
   "source": [
    "df_train_full, df_test = train_test_split(df, test_size=0.2, random_state=1)\n",
    "df_train, df_val = train_test_split(df_train_full, test_size=len(df_test), random_state=1)\n",
    "\n",
    "len(df_train), len(df_val), len(df_test)"
   ]
  },
  {
   "cell_type": "code",
   "execution_count": 334,
   "id": "30cfdb12",
   "metadata": {},
   "outputs": [],
   "source": [
    "df_train = df_train.reset_index(drop=True)\n",
    "df_val = df_val.reset_index(drop=True)\n",
    "df_test = df_test.reset_index(drop=True)\n",
    "\n",
    "y_train = df_train['y'].values\n",
    "y_val = df_val['y'].values\n",
    "y_test = df_test['y'].values\n",
    "\n",
    "del df_train['y']\n",
    "del df_val['y']\n",
    "del df_test['y']"
   ]
  },
  {
   "cell_type": "markdown",
   "id": "46848472",
   "metadata": {},
   "source": [
    "# Question 1 \n",
    "# ROC AUC Feature Importance"
   ]
  },
  {
   "cell_type": "code",
   "execution_count": 335,
   "id": "5c92372c",
   "metadata": {},
   "outputs": [],
   "source": [
    "from sklearn.metrics import roc_auc_score"
   ]
  },
  {
   "cell_type": "code",
   "execution_count": 336,
   "id": "6001b33c",
   "metadata": {},
   "outputs": [
    {
     "name": "stdout",
     "output_type": "stream",
     "text": [
      "balance 0.59\n",
      "day 0.53\n",
      "duration 0.81\n",
      "previous 0.6\n"
     ]
    }
   ],
   "source": [
    "columns = ['balance', 'day', 'duration', 'previous']\n",
    "\n",
    "for column in columns:\n",
    "    auc = roc_auc_score(y_train, df_train[column])\n",
    "    if auc < 0.5:\n",
    "        auc = roc_auc_score(y_train, -df_train[column])\n",
    "    print(column, round(auc, 2))"
   ]
  },
  {
   "cell_type": "markdown",
   "id": "185b0bb2",
   "metadata": {},
   "source": [
    "# Question 2\n",
    "# One-Hot Encoding"
   ]
  },
  {
   "cell_type": "code",
   "execution_count": 337,
   "id": "09191c19",
   "metadata": {},
   "outputs": [],
   "source": [
    "from sklearn.feature_extraction import DictVectorizer"
   ]
  },
  {
   "cell_type": "code",
   "execution_count": 338,
   "id": "0375abff",
   "metadata": {},
   "outputs": [],
   "source": [
    "dv = DictVectorizer(sparse=False)\n",
    "\n",
    "train_dict = df_train[categorical + numerical].to_dict(orient='records')\n",
    "X_train = dv.fit_transform(train_dict)\n",
    "\n",
    "val_dict = df_val[categorical + numerical].to_dict(orient='records')\n",
    "X_val = dv.transform(val_dict)"
   ]
  },
  {
   "cell_type": "markdown",
   "id": "be994540",
   "metadata": {},
   "source": [
    "# Training the model"
   ]
  },
  {
   "cell_type": "code",
   "execution_count": 339,
   "id": "73702488",
   "metadata": {},
   "outputs": [],
   "source": [
    "from sklearn.linear_model import LogisticRegression"
   ]
  },
  {
   "cell_type": "code",
   "execution_count": 340,
   "id": "335d6c2c",
   "metadata": {},
   "outputs": [
    {
     "name": "stdout",
     "output_type": "stream",
     "text": [
      "0.9\n"
     ]
    }
   ],
   "source": [
    "model = LogisticRegression(solver='liblinear', C=1.0, max_iter=1000)\n",
    "\n",
    "model.fit(X_train, y_train)\n",
    "\n",
    "y_pred = model.predict_proba(X_val)[:, 1]\n",
    "\n",
    "auc = roc_auc_score(y_val, y_pred)\n",
    "\n",
    "print(round(auc, 3))"
   ]
  },
  {
   "cell_type": "markdown",
   "id": "67d03e0c",
   "metadata": {},
   "source": [
    "# Question 3\n",
    "# Precision and Recall"
   ]
  },
  {
   "cell_type": "code",
   "execution_count": 341,
   "id": "d88214a9",
   "metadata": {},
   "outputs": [],
   "source": [
    "import numpy as np"
   ]
  },
  {
   "cell_type": "code",
   "execution_count": 342,
   "id": "4df5af7d",
   "metadata": {},
   "outputs": [],
   "source": [
    "threshold = np.linspace(0, 1, 101)\n",
    "df_scores = pd.DataFrame(columns=['threshold', 'tp', 'tn', 'fp', 'fn'])\n",
    "\n",
    "for t in threshold:\n",
    "\n",
    "    actual_positive = (y_val == 1)\n",
    "    actual_negative = (y_val == 0)\n",
    "\n",
    "    predict_positive = (y_pred >= t)\n",
    "    predict_negative = (y_pred < t)\n",
    "\n",
    "    tp = (predict_positive & actual_positive).sum()\n",
    "    tn = (predict_negative & actual_negative).sum()\n",
    "\n",
    "    fp = (predict_positive & actual_negative).sum()\n",
    "    fn = (predict_negative & actual_positive).sum()\n",
    "    \n",
    "    df_scores.loc[len(df_scores)] = [t, tp, tn, fp, fn]\n",
    "    \n",
    "df_scores['p'] = df_scores.tp / (df_scores.tp + df_scores.fp)\n",
    "df_scores['r'] = df_scores.tp / (df_scores.tp + df_scores.fn)"
   ]
  },
  {
   "cell_type": "code",
   "execution_count": 343,
   "id": "7895ef17",
   "metadata": {
    "scrolled": true
   },
   "outputs": [
    {
     "data": {
      "text/html": [
       "<div>\n",
       "<style scoped>\n",
       "    .dataframe tbody tr th:only-of-type {\n",
       "        vertical-align: middle;\n",
       "    }\n",
       "\n",
       "    .dataframe tbody tr th {\n",
       "        vertical-align: top;\n",
       "    }\n",
       "\n",
       "    .dataframe thead th {\n",
       "        text-align: right;\n",
       "    }\n",
       "</style>\n",
       "<table border=\"1\" class=\"dataframe\">\n",
       "  <thead>\n",
       "    <tr style=\"text-align: right;\">\n",
       "      <th></th>\n",
       "      <th>threshold</th>\n",
       "      <th>tp</th>\n",
       "      <th>tn</th>\n",
       "      <th>fp</th>\n",
       "      <th>fn</th>\n",
       "      <th>p</th>\n",
       "      <th>r</th>\n",
       "    </tr>\n",
       "  </thead>\n",
       "  <tbody>\n",
       "    <tr>\n",
       "      <th>0</th>\n",
       "      <td>0.0</td>\n",
       "      <td>1098.0</td>\n",
       "      <td>0.0</td>\n",
       "      <td>7945.0</td>\n",
       "      <td>0.0</td>\n",
       "      <td>0.121420</td>\n",
       "      <td>1.000000</td>\n",
       "    </tr>\n",
       "    <tr>\n",
       "      <th>10</th>\n",
       "      <td>0.1</td>\n",
       "      <td>929.0</td>\n",
       "      <td>6452.0</td>\n",
       "      <td>1493.0</td>\n",
       "      <td>169.0</td>\n",
       "      <td>0.383567</td>\n",
       "      <td>0.846084</td>\n",
       "    </tr>\n",
       "    <tr>\n",
       "      <th>20</th>\n",
       "      <td>0.2</td>\n",
       "      <td>711.0</td>\n",
       "      <td>7250.0</td>\n",
       "      <td>695.0</td>\n",
       "      <td>387.0</td>\n",
       "      <td>0.505690</td>\n",
       "      <td>0.647541</td>\n",
       "    </tr>\n",
       "    <tr>\n",
       "      <th>30</th>\n",
       "      <td>0.3</td>\n",
       "      <td>567.0</td>\n",
       "      <td>7536.0</td>\n",
       "      <td>409.0</td>\n",
       "      <td>531.0</td>\n",
       "      <td>0.580943</td>\n",
       "      <td>0.516393</td>\n",
       "    </tr>\n",
       "    <tr>\n",
       "      <th>40</th>\n",
       "      <td>0.4</td>\n",
       "      <td>458.0</td>\n",
       "      <td>7675.0</td>\n",
       "      <td>270.0</td>\n",
       "      <td>640.0</td>\n",
       "      <td>0.629121</td>\n",
       "      <td>0.417122</td>\n",
       "    </tr>\n",
       "    <tr>\n",
       "      <th>50</th>\n",
       "      <td>0.5</td>\n",
       "      <td>370.0</td>\n",
       "      <td>7755.0</td>\n",
       "      <td>190.0</td>\n",
       "      <td>728.0</td>\n",
       "      <td>0.660714</td>\n",
       "      <td>0.336976</td>\n",
       "    </tr>\n",
       "    <tr>\n",
       "      <th>60</th>\n",
       "      <td>0.6</td>\n",
       "      <td>287.0</td>\n",
       "      <td>7812.0</td>\n",
       "      <td>133.0</td>\n",
       "      <td>811.0</td>\n",
       "      <td>0.683333</td>\n",
       "      <td>0.261384</td>\n",
       "    </tr>\n",
       "    <tr>\n",
       "      <th>70</th>\n",
       "      <td>0.7</td>\n",
       "      <td>222.0</td>\n",
       "      <td>7844.0</td>\n",
       "      <td>101.0</td>\n",
       "      <td>876.0</td>\n",
       "      <td>0.687307</td>\n",
       "      <td>0.202186</td>\n",
       "    </tr>\n",
       "    <tr>\n",
       "      <th>80</th>\n",
       "      <td>0.8</td>\n",
       "      <td>141.0</td>\n",
       "      <td>7877.0</td>\n",
       "      <td>68.0</td>\n",
       "      <td>957.0</td>\n",
       "      <td>0.674641</td>\n",
       "      <td>0.128415</td>\n",
       "    </tr>\n",
       "    <tr>\n",
       "      <th>90</th>\n",
       "      <td>0.9</td>\n",
       "      <td>76.0</td>\n",
       "      <td>7916.0</td>\n",
       "      <td>29.0</td>\n",
       "      <td>1022.0</td>\n",
       "      <td>0.723810</td>\n",
       "      <td>0.069217</td>\n",
       "    </tr>\n",
       "    <tr>\n",
       "      <th>100</th>\n",
       "      <td>1.0</td>\n",
       "      <td>0.0</td>\n",
       "      <td>7945.0</td>\n",
       "      <td>0.0</td>\n",
       "      <td>1098.0</td>\n",
       "      <td>NaN</td>\n",
       "      <td>0.000000</td>\n",
       "    </tr>\n",
       "  </tbody>\n",
       "</table>\n",
       "</div>"
      ],
      "text/plain": [
       "     threshold      tp      tn      fp      fn         p         r\n",
       "0          0.0  1098.0     0.0  7945.0     0.0  0.121420  1.000000\n",
       "10         0.1   929.0  6452.0  1493.0   169.0  0.383567  0.846084\n",
       "20         0.2   711.0  7250.0   695.0   387.0  0.505690  0.647541\n",
       "30         0.3   567.0  7536.0   409.0   531.0  0.580943  0.516393\n",
       "40         0.4   458.0  7675.0   270.0   640.0  0.629121  0.417122\n",
       "50         0.5   370.0  7755.0   190.0   728.0  0.660714  0.336976\n",
       "60         0.6   287.0  7812.0   133.0   811.0  0.683333  0.261384\n",
       "70         0.7   222.0  7844.0   101.0   876.0  0.687307  0.202186\n",
       "80         0.8   141.0  7877.0    68.0   957.0  0.674641  0.128415\n",
       "90         0.9    76.0  7916.0    29.0  1022.0  0.723810  0.069217\n",
       "100        1.0     0.0  7945.0     0.0  1098.0       NaN  0.000000"
      ]
     },
     "execution_count": 343,
     "metadata": {},
     "output_type": "execute_result"
    }
   ],
   "source": [
    "df_scores[::10]"
   ]
  },
  {
   "cell_type": "markdown",
   "id": "c7d233b0",
   "metadata": {},
   "source": [
    "# Interception point Precision X Recall"
   ]
  },
  {
   "cell_type": "code",
   "execution_count": 344,
   "id": "9ce5e895",
   "metadata": {},
   "outputs": [
    {
     "data": {
      "text/html": [
       "<div>\n",
       "<style scoped>\n",
       "    .dataframe tbody tr th:only-of-type {\n",
       "        vertical-align: middle;\n",
       "    }\n",
       "\n",
       "    .dataframe tbody tr th {\n",
       "        vertical-align: top;\n",
       "    }\n",
       "\n",
       "    .dataframe thead th {\n",
       "        text-align: right;\n",
       "    }\n",
       "</style>\n",
       "<table border=\"1\" class=\"dataframe\">\n",
       "  <thead>\n",
       "    <tr style=\"text-align: right;\">\n",
       "      <th></th>\n",
       "      <th>threshold</th>\n",
       "      <th>tp</th>\n",
       "      <th>tn</th>\n",
       "      <th>fp</th>\n",
       "      <th>fn</th>\n",
       "      <th>p</th>\n",
       "      <th>r</th>\n",
       "    </tr>\n",
       "  </thead>\n",
       "  <tbody>\n",
       "    <tr>\n",
       "      <th>26</th>\n",
       "      <td>0.26</td>\n",
       "      <td>620.0</td>\n",
       "      <td>7448.0</td>\n",
       "      <td>497.0</td>\n",
       "      <td>478.0</td>\n",
       "      <td>0.555058</td>\n",
       "      <td>0.564663</td>\n",
       "    </tr>\n",
       "    <tr>\n",
       "      <th>99</th>\n",
       "      <td>0.99</td>\n",
       "      <td>11.0</td>\n",
       "      <td>7940.0</td>\n",
       "      <td>5.0</td>\n",
       "      <td>1087.0</td>\n",
       "      <td>0.687500</td>\n",
       "      <td>0.010018</td>\n",
       "    </tr>\n",
       "  </tbody>\n",
       "</table>\n",
       "</div>"
      ],
      "text/plain": [
       "    threshold     tp      tn     fp      fn         p         r\n",
       "26       0.26  620.0  7448.0  497.0   478.0  0.555058  0.564663\n",
       "99       0.99   11.0  7940.0    5.0  1087.0  0.687500  0.010018"
      ]
     },
     "execution_count": 344,
     "metadata": {},
     "output_type": "execute_result"
    }
   ],
   "source": [
    "idx = np.argwhere(\n",
    "        np.diff(\n",
    "            np.sign(np.array(df_scores[\"p\"]) - np.array(df_scores[\"r\"]))\n",
    "        )\n",
    "    ).flatten()\n",
    "    \n",
    "df_scores.iloc[idx]"
   ]
  },
  {
   "cell_type": "code",
   "execution_count": 345,
   "id": "c88f9baa",
   "metadata": {},
   "outputs": [],
   "source": [
    "import matplotlib.pyplot as plt\n",
    "\n",
    "%matplotlib inline"
   ]
  },
  {
   "cell_type": "code",
   "execution_count": 346,
   "id": "382e5768",
   "metadata": {},
   "outputs": [
    {
     "data": {
      "image/png": "[encoded data removed]",
      "text/plain": [
       "<Figure size 500x500 with 1 Axes>"
      ]
     },
     "metadata": {},
     "output_type": "display_data"
    }
   ],
   "source": [
    "plt.figure(figsize= (5, 5))\n",
    "\n",
    "plt.plot(df_scores.threshold, df_scores.p, label='Precision')\n",
    "plt.plot(df_scores.threshold, df_scores.r, label='Recall')\n",
    "\n",
    "plt.vlines(df_scores.threshold.iloc[idx[0]], 0, 1, color='grey', linestyle='--', alpha=0.5)\n",
    "\n",
    "plt.annotate(f'Interception: {df_scores.threshold.iloc[idx[0]]}', \n",
    "             xy=(df_scores.threshold.iloc[idx[0]], df_scores.p.iloc[idx[0]]), \n",
    "             xytext=(df_scores.threshold.iloc[idx[0]]/2, 0))\n",
    "\n",
    "plt.xlabel('Threshold')\n",
    "plt.ylabel('Score')\n",
    "plt.title('Precision vs Recall')\n",
    "\n",
    "plt.legend()\n",
    "plt.show()"
   ]
  },
  {
   "cell_type": "markdown",
   "id": "6b64b188",
   "metadata": {},
   "source": [
    "# Question 4\n",
    "# F1 Score"
   ]
  },
  {
   "cell_type": "markdown",
   "id": "5464f95c",
   "metadata": {},
   "source": [
    "$$F_1 = 2 \\cdot \\cfrac{P \\cdot R}{P + R}$$"
   ]
  },
  {
   "cell_type": "code",
   "execution_count": 347,
   "id": "0f255ea5",
   "metadata": {
    "scrolled": true
   },
   "outputs": [
    {
     "data": {
      "text/html": [
       "<div>\n",
       "<style scoped>\n",
       "    .dataframe tbody tr th:only-of-type {\n",
       "        vertical-align: middle;\n",
       "    }\n",
       "\n",
       "    .dataframe tbody tr th {\n",
       "        vertical-align: top;\n",
       "    }\n",
       "\n",
       "    .dataframe thead th {\n",
       "        text-align: right;\n",
       "    }\n",
       "</style>\n",
       "<table border=\"1\" class=\"dataframe\">\n",
       "  <thead>\n",
       "    <tr style=\"text-align: right;\">\n",
       "      <th></th>\n",
       "      <th>threshold</th>\n",
       "      <th>tp</th>\n",
       "      <th>tn</th>\n",
       "      <th>fp</th>\n",
       "      <th>fn</th>\n",
       "      <th>p</th>\n",
       "      <th>r</th>\n",
       "      <th>f1</th>\n",
       "    </tr>\n",
       "  </thead>\n",
       "  <tbody>\n",
       "    <tr>\n",
       "      <th>23</th>\n",
       "      <td>0.23</td>\n",
       "      <td>671.0</td>\n",
       "      <td>7374.0</td>\n",
       "      <td>571.0</td>\n",
       "      <td>427.0</td>\n",
       "      <td>0.540258</td>\n",
       "      <td>0.611111</td>\n",
       "      <td>0.573504</td>\n",
       "    </tr>\n",
       "    <tr>\n",
       "      <th>22</th>\n",
       "      <td>0.22</td>\n",
       "      <td>686.0</td>\n",
       "      <td>7328.0</td>\n",
       "      <td>617.0</td>\n",
       "      <td>412.0</td>\n",
       "      <td>0.526477</td>\n",
       "      <td>0.624772</td>\n",
       "      <td>0.571429</td>\n",
       "    </tr>\n",
       "    <tr>\n",
       "      <th>21</th>\n",
       "      <td>0.21</td>\n",
       "      <td>700.0</td>\n",
       "      <td>7288.0</td>\n",
       "      <td>657.0</td>\n",
       "      <td>398.0</td>\n",
       "      <td>0.515844</td>\n",
       "      <td>0.637523</td>\n",
       "      <td>0.570265</td>\n",
       "    </tr>\n",
       "    <tr>\n",
       "      <th>19</th>\n",
       "      <td>0.19</td>\n",
       "      <td>728.0</td>\n",
       "      <td>7208.0</td>\n",
       "      <td>737.0</td>\n",
       "      <td>370.0</td>\n",
       "      <td>0.496928</td>\n",
       "      <td>0.663024</td>\n",
       "      <td>0.568084</td>\n",
       "    </tr>\n",
       "    <tr>\n",
       "      <th>20</th>\n",
       "      <td>0.20</td>\n",
       "      <td>711.0</td>\n",
       "      <td>7250.0</td>\n",
       "      <td>695.0</td>\n",
       "      <td>387.0</td>\n",
       "      <td>0.505690</td>\n",
       "      <td>0.647541</td>\n",
       "      <td>0.567891</td>\n",
       "    </tr>\n",
       "    <tr>\n",
       "      <th>...</th>\n",
       "      <td>...</td>\n",
       "      <td>...</td>\n",
       "      <td>...</td>\n",
       "      <td>...</td>\n",
       "      <td>...</td>\n",
       "      <td>...</td>\n",
       "      <td>...</td>\n",
       "      <td>...</td>\n",
       "    </tr>\n",
       "    <tr>\n",
       "      <th>96</th>\n",
       "      <td>0.96</td>\n",
       "      <td>30.0</td>\n",
       "      <td>7927.0</td>\n",
       "      <td>18.0</td>\n",
       "      <td>1068.0</td>\n",
       "      <td>0.625000</td>\n",
       "      <td>0.027322</td>\n",
       "      <td>0.052356</td>\n",
       "    </tr>\n",
       "    <tr>\n",
       "      <th>97</th>\n",
       "      <td>0.97</td>\n",
       "      <td>24.0</td>\n",
       "      <td>7929.0</td>\n",
       "      <td>16.0</td>\n",
       "      <td>1074.0</td>\n",
       "      <td>0.600000</td>\n",
       "      <td>0.021858</td>\n",
       "      <td>0.042179</td>\n",
       "    </tr>\n",
       "    <tr>\n",
       "      <th>98</th>\n",
       "      <td>0.98</td>\n",
       "      <td>20.0</td>\n",
       "      <td>7934.0</td>\n",
       "      <td>11.0</td>\n",
       "      <td>1078.0</td>\n",
       "      <td>0.645161</td>\n",
       "      <td>0.018215</td>\n",
       "      <td>0.035430</td>\n",
       "    </tr>\n",
       "    <tr>\n",
       "      <th>99</th>\n",
       "      <td>0.99</td>\n",
       "      <td>11.0</td>\n",
       "      <td>7940.0</td>\n",
       "      <td>5.0</td>\n",
       "      <td>1087.0</td>\n",
       "      <td>0.687500</td>\n",
       "      <td>0.010018</td>\n",
       "      <td>0.019749</td>\n",
       "    </tr>\n",
       "    <tr>\n",
       "      <th>100</th>\n",
       "      <td>1.00</td>\n",
       "      <td>0.0</td>\n",
       "      <td>7945.0</td>\n",
       "      <td>0.0</td>\n",
       "      <td>1098.0</td>\n",
       "      <td>NaN</td>\n",
       "      <td>0.000000</td>\n",
       "      <td>NaN</td>\n",
       "    </tr>\n",
       "  </tbody>\n",
       "</table>\n",
       "<p>101 rows × 8 columns</p>\n",
       "</div>"
      ],
      "text/plain": [
       "     threshold     tp      tn     fp      fn         p         r        f1\n",
       "23        0.23  671.0  7374.0  571.0   427.0  0.540258  0.611111  0.573504\n",
       "22        0.22  686.0  7328.0  617.0   412.0  0.526477  0.624772  0.571429\n",
       "21        0.21  700.0  7288.0  657.0   398.0  0.515844  0.637523  0.570265\n",
       "19        0.19  728.0  7208.0  737.0   370.0  0.496928  0.663024  0.568084\n",
       "20        0.20  711.0  7250.0  695.0   387.0  0.505690  0.647541  0.567891\n",
       "..         ...    ...     ...    ...     ...       ...       ...       ...\n",
       "96        0.96   30.0  7927.0   18.0  1068.0  0.625000  0.027322  0.052356\n",
       "97        0.97   24.0  7929.0   16.0  1074.0  0.600000  0.021858  0.042179\n",
       "98        0.98   20.0  7934.0   11.0  1078.0  0.645161  0.018215  0.035430\n",
       "99        0.99   11.0  7940.0    5.0  1087.0  0.687500  0.010018  0.019749\n",
       "100       1.00    0.0  7945.0    0.0  1098.0       NaN  0.000000       NaN\n",
       "\n",
       "[101 rows x 8 columns]"
      ]
     },
     "execution_count": 347,
     "metadata": {},
     "output_type": "execute_result"
    }
   ],
   "source": [
    "df_scores['f1'] = 2 * (df_scores.p * df_scores.r) / (df_scores.p + df_scores.r)\n",
    "df_scores.sort_values(by='f1', ascending=False)"
   ]
  },
  {
   "cell_type": "markdown",
   "id": "efaebe7e",
   "metadata": {},
   "source": [
    "# Question 5\n",
    "# K Fold"
   ]
  },
  {
   "cell_type": "code",
   "execution_count": 348,
   "id": "152176c7",
   "metadata": {},
   "outputs": [],
   "source": [
    "def train(df_train, y_train, C):\n",
    "    dicts = df_train[categorical + numerical].to_dict(orient='records')\n",
    "\n",
    "    dv = DictVectorizer(sparse=False)\n",
    "    X_train = dv.fit_transform(dicts)\n",
    "\n",
    "    model = LogisticRegression(solver='liblinear', C=C, max_iter=1000)\n",
    "    model.fit(X_train, y_train)\n",
    "    \n",
    "    return dv, model\n",
    "\n",
    "def predict(df, dv, model):\n",
    "    dicts = df[categorical + numerical].to_dict(orient='records')\n",
    "\n",
    "    X = dv.transform(dicts)\n",
    "    y_pred = model.predict_proba(X)[:, 1]\n",
    "\n",
    "    return y_pred"
   ]
  },
  {
   "cell_type": "code",
   "execution_count": 349,
   "id": "35384c06",
   "metadata": {},
   "outputs": [],
   "source": [
    "from sklearn.model_selection import KFold"
   ]
  },
  {
   "cell_type": "code",
   "execution_count": 350,
   "id": "7bd6e595",
   "metadata": {},
   "outputs": [
    {
     "name": "stdout",
     "output_type": "stream",
     "text": [
      "0.906 +- 0.006\n"
     ]
    }
   ],
   "source": [
    "kfold = KFold(n_splits=5, shuffle=True, random_state=1)\n",
    "\n",
    "scores = []\n",
    "\n",
    "for train_idx, val_idx in kfold.split(df_train_full):\n",
    "    df_train = df_train_full.iloc[train_idx]\n",
    "    df_val = df_train_full.iloc[val_idx]\n",
    "\n",
    "    y_train = df_train.y.values\n",
    "    y_val = df_val.y.values\n",
    "\n",
    "    dv, model = train(df_train, y_train, C=1.0)\n",
    "    y_pred = predict(df_val, dv, model)\n",
    "\n",
    "    auc = roc_auc_score(y_val, y_pred)\n",
    "    scores.append(auc)\n",
    "\n",
    "print('%.3f +- %.3f' % (np.mean(scores), np.std(scores)))"
   ]
  },
  {
   "cell_type": "markdown",
   "id": "098db738",
   "metadata": {},
   "source": [
    "# Question 6\n",
    "# Hyperparameter Tuning"
   ]
  },
  {
   "cell_type": "code",
   "execution_count": 351,
   "id": "b67440d7",
   "metadata": {},
   "outputs": [
    {
     "name": "stdout",
     "output_type": "stream",
     "text": [
      "C=1e-06 0.701 +- 0.009\n",
      "C=0.001 0.861 +- 0.007\n",
      "C=1 0.906 +- 0.006\n"
     ]
    }
   ],
   "source": [
    "for C in [0.000001, 0.001, 1]:\n",
    "\n",
    "    kfold = KFold(n_splits=5, shuffle=True, random_state=1)\n",
    "\n",
    "    scores = []\n",
    "\n",
    "    for train_idx, val_idx in kfold.split(df_train_full):\n",
    "        df_train = df_train_full.iloc[train_idx]\n",
    "        df_val = df_train_full.iloc[val_idx]\n",
    "\n",
    "        y_train = df_train.y.values\n",
    "        y_val = df_val.y.values\n",
    "\n",
    "        dv, model = train(df_train, y_train, C=C)\n",
    "        y_pred = predict(df_val, dv, model)\n",
    "\n",
    "        auc = roc_auc_score(y_val, y_pred)\n",
    "        scores.append(auc)\n",
    "\n",
    "    print('C=%s %.3f +- %.3f' % (C, np.mean(scores), np.std(scores)))"
   ]
  }
 ],
 "metadata": {
  "kernelspec": {
   "display_name": "Python 3 (ipykernel)",
   "language": "python",
   "name": "python3"
  },
  "language_info": {
   "codemirror_mode": {
    "name": "ipython",
    "version": 3
   },
   "file_extension": ".py",
   "mimetype": "text/x-python",
   "name": "python",
   "nbconvert_exporter": "python",
   "pygments_lexer": "ipython3",
   "version": "3.11.5"
  }
 },
 "nbformat": 4,
 "nbformat_minor": 5
}
